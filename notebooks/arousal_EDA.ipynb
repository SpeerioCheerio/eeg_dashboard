{
 "cells": [
  {
   "cell_type": "code",
   "execution_count": null,
   "metadata": {},
   "outputs": [],
   "source": [
    "%load_ext autoreload\n",
    "%autoreload 2 "
   ]
  },
  {
   "cell_type": "code",
   "execution_count": 1,
   "metadata": {},
   "outputs": [],
   "source": [
    "import os\n",
    "import numpy as np\n",
    "import pandas as pd\n",
    "from datetime import datetime, timedelta\n",
    "import plotly.graph_objects as go\n",
    "import plotly.express as px\n",
    "from typing import Any, Dict, List, Optional, Tuple\n",
    "\n",
    "from dotenv import load_dotenv\n",
    "load_dotenv()\n",
    "from setup_path import add_src_to_path\n",
    "add_src_to_path()\n",
    "\n",
    "from awear_neuroscience.data_extraction.constants import (\n",
    "    WAVEFORM_KEY, SAMPLING_RATE, FIELD_KEYS\n",
    ")\n",
    "\n",
    "from awear_neuroscience.data_extraction.firestore_loader import  process_eeg_records\n",
    "from awear_neuroscience.pipeline.preprocess import process_long_df, extract_features_from_long_df, process_features\n",
    "from awear_neuroscience.statistical_analysis.statistical_tests import compare_session_types\n",
    "from awear_neuroscience.data_extraction.firestore_loader import get_selreport_data"
   ]
  },
  {
   "cell_type": "code",
   "execution_count": null,
   "metadata": {},
   "outputs": [],
   "source": [
    "import firebase_admin\n",
    "from firebase_admin import credentials, firestore\n",
    "\n",
    "cred = credentials.Certificate(os.getenv(\"GOOGLE_APPLICATION_CREDENTIALS\"))\n",
    "firebase_admin.initialize_app(cred)\n",
    "firestore_client = firestore.Client()"
   ]
  },
  {
   "cell_type": "code",
   "execution_count": null,
   "metadata": {},
   "outputs": [],
   "source": [
    "# Download all the EEG records for sessions_of_interest\n",
    "\n",
    "emails=[\"cristiana.principato@gmail.com\", \"f.morrone980@gmail.com\", \"antonio.forenza@gmail.com\", \"simone.balatti@gmail.com\"]\n",
    "# emails=[\"simone.balatti@gmail.com\"]\n",
    "sessions_of_interest=[\"calm\", \"stressed\"]\n",
    "now = datetime.now()\n",
    "start=datetime.fromisocalendar(2025, 1, 1)\n",
    "time_ranges = [(start, now)] \n",
    "raw_records=[]\n",
    "for email in emails:\n",
    "    raw_records.extend(get_selreport_data(\n",
    "            firestore_client=firestore_client, \n",
    "            collection_name=os.getenv(\"COLLECTION_NAME\"), \n",
    "            document_name=email, \n",
    "            time_ranges=time_ranges, \n",
    "            sessions_of_interest=sessions_of_interest))\n",
    "\n"
   ]
  },
  {
   "cell_type": "code",
   "execution_count": null,
   "metadata": {},
   "outputs": [],
   "source": [
    "# Transform raw records into a DataFrame \n",
    "long_df = process_eeg_records(raw_records, return_long=True)\n",
    "# Apply segment-wise filtering and artifacts detection\n",
    "long_df = process_long_df(long_df,SAMPLING_RATE, artifacts_detection_method='amplitude', amplitude_threshold=20)\n"
   ]
  },
  {
   "cell_type": "code",
   "execution_count": null,
   "metadata": {},
   "outputs": [],
   "source": [
    "# Extract features\n",
    "features_df = extract_features_from_long_df(long_df, SAMPLING_RATE)\n",
    "\n",
    "# Apply exponential moving averavge, normalization and generates time-based features\n",
    "N=15 # window size for the ema filter\n",
    "alpha=2/(N+1) # smoothing factor for the ema filter - rule of thumb\n",
    "print(f'smoothing factor: {alpha}')\n",
    "columns_to_normalize = ['gamma_fil', 'gamma1_fil', 'gamma2_fil' ]\n",
    "features_df = process_features(features_df, alpha, columns_to_normalize)\n",
    "features_df.head()"
   ]
  },
  {
   "cell_type": "code",
   "execution_count": null,
   "metadata": {},
   "outputs": [],
   "source": [
    "# Apply KS and MW U tests and evaluate Cohen'd d effect size\n",
    "feature_columns = ['gamma_fil', 'gamma1_fil', 'gamma2_fil']\n",
    "tests_df=compare_session_types(features_df, feature_columns)\n",
    "tests_df.head()"
   ]
  },
  {
   "cell_type": "code",
   "execution_count": null,
   "metadata": {},
   "outputs": [],
   "source": [
    "# Plot Cumulative Distribution Function for selected features\n",
    "\n",
    "color_map = {\n",
    "    'Calm': 'green',      \n",
    "    'Stressed': 'red',\n",
    "    None: 'blue',\n",
    "    np.nan: 'blue'\n",
    "}\n",
    "\n",
    "columns_to_plot = ['gamma_fil', 'gamma2_fil','gamma2_fil_norm', ]\n",
    "\n",
    "for column in columns_to_plot:\n",
    "    fig = px.ecdf(\n",
    "        features_df,\n",
    "        x=column,\n",
    "        title=f'Cumulative Distribution of {column} ',\n",
    "        color='focus_type',\n",
    "        color_discrete_map=color_map,\n",
    "        # width=1400, \n",
    "        facet_col='document_name'\n",
    "    )\n",
    "\n",
    "    fig.update_layout(\n",
    "        xaxis_title=column,\n",
    "        yaxis_title='Cumulative Probability',\n",
    "        bargap=0.1\n",
    "    )\n",
    "    fig.show()\n"
   ]
  },
  {
   "cell_type": "code",
   "execution_count": null,
   "metadata": {},
   "outputs": [],
   "source": [
    "# Plot cumulative distribution grouped by session \n",
    "\n",
    "columns_to_plot = [ 'gamma_fil','gamma2_fil' ]\n",
    "for column in columns_to_plot:\n",
    "    fig = px.ecdf(\n",
    "        features_df,\n",
    "        x=column,\n",
    "        color='session_id',\n",
    "        color_discrete_map=color_map,\n",
    "        # width=1400,\n",
    "        # height=800,\n",
    "        facet_row='focus_type',\n",
    "        facet_col='document_name'\n",
    "        \n",
    "    )\n",
    "    fig.update_layout(\n",
    "        xaxis_title=column,\n",
    "        yaxis_title='Cumulative Probability',\n",
    "        bargap=0.1\n",
    "    )\n",
    "    fig.show()\n"
   ]
  }
 ],
 "metadata": {
  "kernelspec": {
   "display_name": "Python 3",
   "language": "python",
   "name": "python3"
  },
  "language_info": {
   "codemirror_mode": {
    "name": "ipython",
    "version": 3
   },
   "file_extension": ".py",
   "mimetype": "text/x-python",
   "name": "python",
   "nbconvert_exporter": "python",
   "pygments_lexer": "ipython3",
   "version": "3.12.3"
  }
 },
 "nbformat": 4,
 "nbformat_minor": 2
}
