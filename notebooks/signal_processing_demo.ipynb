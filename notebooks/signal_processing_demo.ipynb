{
 "cells": [
  {
   "cell_type": "code",
   "execution_count": null,
   "id": "ab4af603",
   "metadata": {},
   "outputs": [],
   "source": [
    "%load_ext autoreload\n",
    "%autoreload 2 "
   ]
  },
  {
   "cell_type": "code",
   "execution_count": null,
   "id": "e688481b",
   "metadata": {},
   "outputs": [],
   "source": [
    "from dotenv import load_dotenv\n",
    "load_dotenv()\n",
    "from setup_path import add_src_to_path\n",
    "add_src_to_path()"
   ]
  },
  {
   "cell_type": "code",
   "execution_count": null,
   "id": "1079552e",
   "metadata": {},
   "outputs": [],
   "source": [
    "import pandas as pd\n",
    "import numpy as np\n",
    "import plotly.express as px\n",
    "from awear_neuroscience.signal_processing.filters import preprocess_segment\n",
    "from awear_neuroscience.signal_processing.artifacts import detect_artifacts\n",
    "from awear_neuroscience.signal_processing.features import (\n",
    "    compute_psd,\n",
    "    extract_band_features,\n",
    "    apply_ema_filtering,\n",
    "    normalize_indexes,\n",
    "    add_time_features,\n",
    ")"
   ]
  },
  {
   "cell_type": "code",
   "execution_count": null,
   "id": "40bc8ec6",
   "metadata": {},
   "outputs": [],
   "source": [
    "# Load EEG long-format data (ensure this file exists)\n",
    "long_df = pd.read_csv(\"../data/long_df.csv\")\n",
    "fs = 256\n",
    "\n",
    "# Filter signal by segment\n",
    "segments = long_df['segment'].unique()\n",
    "filtered_signals = []\n",
    "for seg in segments:\n",
    "    x = long_df[long_df['segment'] == seg]['waveform_value'].values\n",
    "    filtered_signals.append(preprocess_segment(x, fs))\n",
    "\n",
    "# Add filtered back to long_df\n",
    "long_df['filtered_value'] = np.concatenate(filtered_signals)\n",
    "long_df['abs_filtered'] = np.abs(long_df['filtered_value'])\n",
    "\n",
    "# Compute max abs per segment\n",
    "max_abs = long_df.groupby('segment')['abs_filtered'].max().reset_index(name='max_abs_filtered_value')\n",
    "long_df = long_df.merge(max_abs, on='segment', how='left')\n",
    "\n"
   ]
  },
  {
   "cell_type": "code",
   "execution_count": null,
   "id": "e62806d1",
   "metadata": {},
   "outputs": [],
   "source": [
    "px.histogram(\n",
    "    long_df, \n",
    "    x='filtered_value', \n",
    "    nbins=200, \n",
    "    title='Distribution of Filtered EEG Values'\n",
    ").show()"
   ]
  },
  {
   "cell_type": "code",
   "execution_count": null,
   "id": "3645b432",
   "metadata": {},
   "outputs": [],
   "source": [
    "# Plot histogram\n",
    "px.histogram(max_abs, x='max_abs_filtered_value', nbins=100, title='Max Abs Filtered EEG per Segment').show()"
   ]
  },
  {
   "cell_type": "code",
   "execution_count": null,
   "id": "125f84b0",
   "metadata": {},
   "outputs": [],
   "source": [
    "\n",
    "from awear_neuroscience.signal_processing.artifacts import detect_artifacts\n",
    "\n",
    "long_df = long_df.dropna(subset=['segment', 'filtered_value'])\n",
    "long_df = long_df.reset_index(drop=True)\n",
    "\n",
    "# Group by segment, aggregate waveform as list or np.ndarray\n",
    "artifact_flags = (\n",
    "    long_df\n",
    "    .groupby(['segment'])['filtered_value']\n",
    "    .apply(lambda x: detect_artifacts(np.array(x), fs=256, method='amplitude', amp_thresh=20))\n",
    "    .reset_index(name='is_artifact')\n",
    ")\n",
    "\n",
    "# Merge the artifact labels back to the long_df\n",
    "long_df = long_df.merge(artifact_flags, on=['segment'], how='left')\n",
    "\n"
   ]
  },
  {
   "cell_type": "code",
   "execution_count": null,
   "id": "1d4bd54b",
   "metadata": {},
   "outputs": [],
   "source": [
    "\n",
    "# Feature extraction\n",
    "features = []\n",
    "for seg_id in segments:\n",
    "    seg_data = long_df[long_df['segment'] == seg_id]\n",
    "    if not seg_data['is_artifact'].iloc[0]:\n",
    "        signal = seg_data['filtered_value'].values\n",
    "        freqs, psd = compute_psd(signal, fs)\n",
    "        features.append(extract_band_features(freqs, psd, segment=seg_id, focus_type=seg_data['focus_type'].iloc[0], timestamp=seg_data['timestamp'].iloc[0]))\n",
    "\n",
    "features_df = pd.DataFrame(features)\n",
    "features_df.head()\n"
   ]
  },
  {
   "cell_type": "code",
   "execution_count": null,
   "id": "e2e85c4c",
   "metadata": {},
   "outputs": [],
   "source": [
    "features_df[['delta', 'theta', 'alpha', 'beta', 'gamma']].mean()\n"
   ]
  },
  {
   "cell_type": "code",
   "execution_count": null,
   "id": "7000c31f",
   "metadata": {},
   "outputs": [],
   "source": [
    "import plotly.express as px\n",
    "\n",
    "# Melt features_df and keep timestamp and email\n",
    "id_vars = ['segment', 'timestamp']  # add 'session_id' or others if needed\n",
    "value_vars = ['delta', 'theta', 'alpha', 'beta', 'gamma']\n",
    "\n",
    "melted = features_df.melt(\n",
    "    id_vars=id_vars,\n",
    "    value_vars=value_vars,\n",
    "    var_name='band',\n",
    "    value_name='power'\n",
    ")\n",
    "\n",
    "\n",
    "fig = px.bar(\n",
    "    melted,\n",
    "    x='segment',\n",
    "    y='power',\n",
    "    color='band',\n",
    "    barmode='stack',\n",
    "    title='EEG Band Power per Segment'\n",
    ")\n",
    "fig.show()\n"
   ]
  },
  {
   "cell_type": "code",
   "execution_count": null,
   "id": "07e842a9",
   "metadata": {},
   "outputs": [],
   "source": [
    "import plotly.graph_objects as go\n",
    "\n",
    "# Group by timestamp and band\n",
    "agg = melted.groupby(['timestamp', 'band'])['power'].agg(['mean', 'std']).reset_index()\n",
    "\n",
    "fig = go.Figure()\n",
    "\n",
    "for band in agg['band'].unique():\n",
    "    df_band = agg[agg['band'] == band]\n",
    "    \n",
    "    fig.add_trace(go.Scatter(\n",
    "        x=df_band['timestamp'],\n",
    "        y=df_band['mean'],\n",
    "        mode='lines',\n",
    "        name=f\"{band} mean\"\n",
    "    ))\n",
    "    \n",
    "    # Upper bound\n",
    "    fig.add_trace(go.Scatter(\n",
    "        x=df_band['timestamp'],\n",
    "        y=df_band['mean'] + df_band['std'],\n",
    "        mode='lines',\n",
    "        line=dict(width=0),\n",
    "        showlegend=False\n",
    "    ))\n",
    "\n",
    "    # Lower bound with fill\n",
    "    fig.add_trace(go.Scatter(\n",
    "        x=df_band['timestamp'],\n",
    "        y=df_band['mean'] - df_band['std'],\n",
    "        mode='lines',\n",
    "        line=dict(width=0),\n",
    "        fill='tonexty',\n",
    "        name=f\"{band} ±1 std\",\n",
    "        fillcolor='rgba(0,100,80,0.2)',\n",
    "        showlegend=True\n",
    "    ))\n",
    "\n",
    "fig.update_layout(\n",
    "    title='EEG Band Power with Confidence Intervals',\n",
    "    xaxis_title='Timestamp',\n",
    "    yaxis_title='Power',\n",
    "    legend_title='Band'\n",
    ")\n",
    "fig.show()\n",
    "\n",
    "\n"
   ]
  },
  {
   "cell_type": "code",
   "execution_count": null,
   "id": "e51af632",
   "metadata": {},
   "outputs": [],
   "source": [
    "import plotly.express as px\n",
    "\n",
    "fig = px.line(\n",
    "    melted,\n",
    "    x='timestamp',\n",
    "    y='power',\n",
    "    color='band',\n",
    "    title='EEG Band Power Over Time',\n",
    "    markers=True\n",
    ")\n",
    "fig.update_layout(\n",
    "    xaxis_title='Timestamp',\n",
    "    yaxis_title='Band Power',\n",
    "    legend_title='Band'\n",
    ")\n",
    "fig.show()\n"
   ]
  },
  {
   "cell_type": "code",
   "execution_count": null,
   "id": "c3db8b4a",
   "metadata": {},
   "outputs": [],
   "source": [
    "# Apply filtering and normalize\n",
    "features_df = apply_ema_filtering(features_df, alpha=2/(30+1))\n",
    "features_df = normalize_indexes(features_df, [\n",
    "    'theta_beta_ratio_fil', 'engagement_index_fil', 'focus_index_fil',\n",
    "    'beta_fil', 'theta_alpha_ratio_fil', 'beta_alpha_ratio_fil'\n",
    "])\n",
    "features_df = add_time_features(features_df)\n"
   ]
  },
  {
   "cell_type": "code",
   "execution_count": null,
   "id": "48441d85",
   "metadata": {},
   "outputs": [],
   "source": [
    "\n",
    "# Plots\n",
    "px.line(features_df, x='timestamp', y='theta_beta_ratio_fil', color='focus_type', title='Theta/Beta Ratio').show()\n",
    "px.line(features_df, x='timestamp', y='engagement_index_fil_norm', title='Normalized Engagement Index').show()\n",
    "px.line(features_df, x='timestamp', y='focus_index_fil_norm', title='Normalized Focus Index').show()\n",
    "px.line(features_df, x='timestamp', y='beta_fil', title='Beta Power').show()\n",
    "px.line(features_df, x='timestamp', y='theta_alpha_ratio_fil', title='Theta/Alpha Ratio').show()\n",
    "px.line(features_df, x='timestamp', y='beta_alpha_ratio_fil', title='Beta/Alpha Ratio').show()\n"
   ]
  },
  {
   "cell_type": "markdown",
   "id": "5091891b",
   "metadata": {},
   "source": [
    "# Extras"
   ]
  },
  {
   "cell_type": "code",
   "execution_count": null,
   "id": "9f28f91b",
   "metadata": {},
   "outputs": [],
   "source": [
    "# Explore different thresholds for artifact removal\n",
    "thresholds = [10, 20, 50, 100]\n",
    "for th in thresholds:\n",
    "    kept = [seg for seg in filtered if max(abs(seg)) < th]\n",
    "    print(f\"Threshold: {th} μV — Segments kept: {len(kept)}/{len(filtered)}\")\n",
    "\n",
    "# px.histogram([max(abs(seg)) for seg in filtered], nbins=100)\n",
    "\n"
   ]
  },
  {
   "cell_type": "code",
   "execution_count": null,
   "id": "91970d0a",
   "metadata": {},
   "outputs": [],
   "source": [
    "\n",
    "# Show interactive scatter for amplitude\n",
    "fig1 = px.scatter(features_df, x='max_abs_amplitude', y='gamma', color='clean_by_amp',\n",
    "                 title='Amplitude vs Gamma Power (color: Clean by Amplitude)',\n",
    "                 hover_data=['session_id', 'email'])\n",
    "\n",
    "# Show histogram for amplitude threshold tuning\n",
    "fig2 = px.histogram(features_df, x='max_abs_amplitude', nbins=50, color='clean_by_amp',\n",
    "                    title='Histogram of Max Absolute Amplitude (threshold=20)',\n",
    "                    marginal='box')\n",
    "\n",
    "# Show histogram for gamma power threshold tuning\n",
    "fig3 = px.histogram(features_df, x='gamma', nbins=50, color='clean_by_gamma',\n",
    "                    title='Histogram of Gamma Power (threshold=25)',\n",
    "                    marginal='box')\n",
    "\n",
    "\n",
    "fig1.show()\n",
    "fig2.show()\n",
    "fig3.show()\n"
   ]
  }
 ],
 "metadata": {
  "kernelspec": {
   "display_name": "Python 3",
   "language": "python",
   "name": "python3"
  },
  "language_info": {
   "codemirror_mode": {
    "name": "ipython",
    "version": 3
   },
   "file_extension": ".py",
   "mimetype": "text/x-python",
   "name": "python",
   "nbconvert_exporter": "python",
   "pygments_lexer": "ipython3",
   "version": "3.10.18"
  }
 },
 "nbformat": 4,
 "nbformat_minor": 5
}
