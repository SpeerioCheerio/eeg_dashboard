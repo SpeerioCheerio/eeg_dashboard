{
 "cells": [
  {
   "cell_type": "code",
   "execution_count": null,
   "id": "443f4023",
   "metadata": {},
   "outputs": [],
   "source": [
    "import os\n",
    "import numpy as np\n",
    "import pandas as pd\n",
    "from datetime import datetime, timedelta\n",
    "import plotly.graph_objects as go\n",
    "import plotly.express as px\n",
    "from typing import Any, Dict, List, Optional, Tuple\n",
    "\n",
    "from dotenv import load_dotenv\n",
    "load_dotenv()\n",
    "from setup_path import add_src_to_path\n",
    "add_src_to_path()\n",
    "\n",
    "from awear_neuroscience.data_extraction.constants import (\n",
    "    WAVEFORM_KEY, SAMPLING_RATE, FIELD_KEYS\n",
    ")\n",
    "\n",
    "from awear_neuroscience.data_extraction.firestore_loader import  process_eeg_records\n",
    "from awear_neuroscience.pipeline.preprocess import process_long_df, extract_features_from_long_df, process_features\n",
    "from awear_neuroscience.statistical_analysis.statistical_tests import compare_session_types\n",
    "from awear_neuroscience.data_extraction.firestore_loader import get_selreport_data"
   ]
  },
  {
   "cell_type": "code",
   "execution_count": null,
   "id": "7fdd4dcb",
   "metadata": {},
   "outputs": [],
   "source": [
    "import pandas as pd\n",
    "\n",
    "features_dfs = pd.read_csv(\"data/focus_sessions_labels_eeg_features.csv\")\n",
    "features_dfs.head()"
   ]
  },
  {
   "cell_type": "code",
   "execution_count": null,
   "id": "ba764949",
   "metadata": {},
   "outputs": [],
   "source": [
    "\n",
    "features_dfs['stress_index'] = (features_dfs['beta_db_fil']+features_dfs['gamma_db_fil']) / (features_dfs['theta_db_fil']+features_dfs['alpha_db_fil'])\n",
    "features_dfs['stress_index_2']= (features_dfs['beta2_db_fil']+features_dfs['gamma2_db_fil']) / (features_dfs['theta_db_fil']+features_dfs['alpha_db_fil'])\n",
    "features_dfs['beta_over_theta_gamma']= (features_dfs['beta_db_fil']) / (features_dfs['theta_db_fil']+features_dfs['gamma_db_fil'])\n",
    "epsilon = 1e-6\n",
    "\n",
    "features_dfs['stress_index_log'] = np.log((features_dfs['beta_db_fil']+features_dfs['gamma_db_fil']) / (features_dfs['theta_db_fil']+features_dfs['alpha_db_fil']+ epsilon))\n",
    "features_dfs['stress_index_2_log']= np.log((features_dfs['beta2_db_fil']+features_dfs['gamma2_db_fil']) / (features_dfs['theta_db_fil']+features_dfs['alpha_db_fil']+ epsilon))\n",
    "features_dfs['beta_over_theta_gamma_log']= np.log((features_dfs['beta_db_fil']) / (features_dfs['theta_db_fil']+features_dfs['gamma_db_fil']+ epsilon))\n",
    "\n"
   ]
  },
  {
   "cell_type": "code",
   "execution_count": null,
   "id": "4040c52e",
   "metadata": {},
   "outputs": [],
   "source": [
    "FEATURES = ['delta_db_fil',\n",
    "       'theta_db_fil', 'alpha_db_fil', 'beta_db_fil', 'gamma_db_fil',\n",
    "       'alpha1_db_fil', 'alpha2_db_fil', 'beta1_db_fil', 'beta2_db_fil',\n",
    "       'beta3_db_fil', 'gamma1_db_fil', 'gamma2_db_fil',\n",
    "       'theta_beta_ratio_fil_db', 'theta_alpha_ratio_fil_db',\n",
    "       'beta_alpha_ratio_fil_db', 'engagement_index_fil_db',\n",
    "       'focus_index_fil_db', 'stress_index', 'stress_index_2', 'beta_over_theta_gamma', 'stress_index_log', 'stress_index_2_log', 'beta_over_theta_gamma_log']"
   ]
  },
  {
   "cell_type": "markdown",
   "id": "7068a0a8",
   "metadata": {},
   "source": [
    "Step 2: Test for Normality\n",
    "\n",
    "- If **p > 0.05** for both Calm and Stressed: assume normality\n",
    "- Otherwise: use non-parametric test"
   ]
  },
  {
   "cell_type": "code",
   "execution_count": null,
   "id": "54cd5f15",
   "metadata": {},
   "outputs": [],
   "source": [
    "from scipy.stats import shapiro\n",
    "p = shapiro(calm_values).pvalue\n"
   ]
  },
  {
   "cell_type": "markdown",
   "id": "201d7c51",
   "metadata": {},
   "source": [
    "### Step 3: Hypothesis Testing\n",
    "\n",
    "### If normality confirmed (both groups):\n",
    "\n",
    "- Use **one-way ANOVA (F-test)**:\n",
    "\n",
    "    \n",
    "\n",
    "### If normality NOT confirmed or unequal variances:\n",
    "\n",
    "- Use **Mann-Whitney U test**:\n",
    "\n",
    "\n",
    "**Use p_value < 0.01** as significance threshold. If p_value < 0.01 the null hypothesis can be rejected"
   ]
  },
  {
   "cell_type": "code",
   "execution_count": null,
   "id": "ed7a1676",
   "metadata": {},
   "outputs": [],
   "source": [
    "from scipy.stats import f_oneway, mannwhitneyu\n",
    "f_stat, p_value = f_oneway(calm_values, stressed_values)\n",
    "stat, p_value = mannwhitneyu(calm_values, stressed_values)"
   ]
  },
  {
   "cell_type": "markdown",
   "id": "1902b838",
   "metadata": {},
   "source": [
    "### Step 4: Effect Size (Cohen’s d)\n",
    "\n",
    "**Cohen’s d** is a standardized measure of **effect size**. It tells you **how big the difference is between two groups**, in units of standard deviation.\n",
    "\n",
    "\n",
    "Effect Size\tCohen’s d\n",
    "Small\t0.2\n",
    "Medium\t0.5\n",
    "Large\t0.8+"
   ]
  },
  {
   "cell_type": "code",
   "execution_count": null,
   "id": "e213c159",
   "metadata": {},
   "outputs": [],
   "source": [
    "def cohens_d(x, y):\n",
    "    nx, ny = len(x), len(y)\n",
    "    pooled_std = np.sqrt(((nx - 1)*np.std(x, ddof=1)**2 + (ny - 1)*np.std(y, ddof=1)**2) / (nx + ny - 2))\n",
    "    return (np.mean(x) - np.mean(y)) / pooled_std\n"
   ]
  },
  {
   "cell_type": "markdown",
   "id": "72de6346",
   "metadata": {},
   "source": [
    "Step 5: Bootstrap 95% Confidence Interval for Effect Size"
   ]
  },
  {
   "cell_type": "code",
   "execution_count": null,
   "id": "606a5674",
   "metadata": {},
   "outputs": [],
   "source": [
    "def bootstrap_cohens_d(x, y, n_iter=10000):\n",
    "    d_values = []\n",
    "    for _ in range(n_iter):\n",
    "        x_sample = np.random.choice(x, size=len(x), replace=True)\n",
    "        y_sample = np.random.choice(y, size=len(y), replace=True)\n",
    "        d_values.append(cohens_d(x_sample, y_sample))\n",
    "    ci_lower = np.percentile(d_values, 2.5)\n",
    "    ci_upper = np.percentile(d_values, 97.5)\n",
    "    return np.mean(d_values), (ci_lower, ci_upper)\n"
   ]
  },
  {
   "cell_type": "markdown",
   "id": "f07046fc",
   "metadata": {},
   "source": [
    "Interpretation Summary"
   ]
  },
  {
   "cell_type": "code",
   "execution_count": null,
   "id": "9b069b87",
   "metadata": {},
   "outputs": [],
   "source": [
    "import numpy as np\n",
    "import pandas as pd\n",
    "import plotly.graph_objects as go\n",
    "from scipy.stats import f_oneway, mannwhitneyu\n",
    "\n",
    "def ecdf_with_ci(data, alpha=0.05):\n",
    "    n = len(data)\n",
    "    epsilon = np.sqrt(np.log(2 / alpha) / (2 * n))\n",
    "    x = np.sort(data)\n",
    "    y = np.arange(1, n + 1) / n\n",
    "    lower = np.maximum(y - epsilon, 0)\n",
    "    upper = np.minimum(y + epsilon, 1)\n",
    "    return x, y, lower, upper\n",
    "\n",
    "def cohens_d(x, y):\n",
    "    nx, ny = len(x), len(y)\n",
    "    pooled_std = np.sqrt(((nx - 1)*np.std(x, ddof=1)**2 + (ny - 1)*np.std(y, ddof=1)**2) / (nx + ny - 2))\n",
    "    return (np.mean(x) - np.mean(y)) / pooled_std\n",
    "\n",
    "def plot_ecdf_with_ci(calm_vals, stressed_vals, feature_name, email, stats, save_path=None, show=True):\n",
    "    x_calm, y_calm, lower_calm, upper_calm = ecdf_with_ci(calm_vals)\n",
    "    x_stressed, y_stressed, lower_stressed, upper_stressed = ecdf_with_ci(stressed_vals)\n",
    "\n",
    "    fig = go.Figure()\n",
    "\n",
    "    fig.add_trace(go.Scatter(x=x_calm, y=y_calm, name='Calm', line=dict(color='blue')))\n",
    "    fig.add_trace(go.Scatter(\n",
    "        x=np.concatenate([x_calm, x_calm[::-1]]),\n",
    "        y=np.concatenate([upper_calm, lower_calm[::-1]]),\n",
    "        fill='toself', fillcolor='rgba(0, 0, 255, 0.1)',\n",
    "        line=dict(color='rgba(255,255,255,0)'), hoverinfo=\"skip\", name='Calm CI'\n",
    "    ))\n",
    "    fig.add_trace(go.Scatter(x=x_stressed, y=y_stressed, name='Stressed', line=dict(color='orange')))\n",
    "    fig.add_trace(go.Scatter(\n",
    "        x=np.concatenate([x_stressed, x_stressed[::-1]]),\n",
    "        y=np.concatenate([upper_stressed, lower_stressed[::-1]]),\n",
    "        fill='toself', fillcolor='rgba(255, 165, 0, 0.1)',\n",
    "        line=dict(color='rgba(255,255,255,0)'), hoverinfo=\"skip\", name='Stressed CI'\n",
    "    ))\n",
    "\n",
    "    annotation_text = (f\"Cohen's d = {stats['cohens_d']:.3f}<br>\"\n",
    "                       f\"ANOVA p = {stats['anova_p']:.3g}<br>\"\n",
    "                       f\"MW U p = {stats['mw_p']:.3g}\")\n",
    "    fig.add_annotation(\n",
    "        text=annotation_text,\n",
    "        xref=\"paper\", yref=\"paper\",\n",
    "        x=0.01, y=0.99, showarrow=False,\n",
    "        align=\"left\", font=dict(size=12)\n",
    "    )\n",
    "\n",
    "    fig.update_layout(\n",
    "        title=f\"ECDF with CI: {feature_name} for {email}\",\n",
    "        xaxis_title=feature_name,\n",
    "        yaxis_title=\"ECDF\",\n",
    "        template=\"simple_white\"\n",
    "    )\n",
    "\n",
    "    if save_path:\n",
    "        os.makedirs(os.path.dirname(save_path), exist_ok=True)\n",
    "        fig.write_image(save_path, format='png', scale=2)\n",
    "\n",
    "    if show:\n",
    "        fig.show()\n",
    "\n",
    "\n",
    "# === Main loop ===\n",
    "emails = df['email'].unique()\n",
    "results = []\n",
    "\n",
    "for email in emails:\n",
    "    calm_df = df[(df['focus_type'] == 'calm') & (df['email'] == email)]\n",
    "    stressed_df = df[(df['focus_type'] == 'stressed') & (df['email'] == email)]\n",
    "    for feature in FEATURES:\n",
    "        calm_vals = calm_df[feature].dropna().values\n",
    "        stressed_vals = stressed_df[feature].dropna().values\n",
    "\n",
    "        if len(calm_vals) < 4 or len(stressed_vals) < 4:\n",
    "            continue\n",
    "\n",
    "        # Compute stats\n",
    "        try:\n",
    "            anova_p = f_oneway(calm_vals, stressed_vals).pvalue\n",
    "        except:\n",
    "            anova_p = np.nan\n",
    "        try:\n",
    "            mw_p = mannwhitneyu(calm_vals, stressed_vals, alternative='two-sided').pvalue\n",
    "        except:\n",
    "            mw_p = np.nan\n",
    "        try:\n",
    "            d = cohens_d(calm_vals, stressed_vals)\n",
    "        except:\n",
    "            d = np.nan\n",
    "\n",
    "        stats = {'email': email, 'feature': feature, 'anova_p': anova_p, 'mw_p': mw_p, 'cohens_d': d}\n",
    "        results.append(stats)\n",
    "\n",
    "        # Plot with stats in legend\n",
    "        plot_ecdf_with_ci(calm_vals, stressed_vals, feature_name=feature, email=email, stats=stats, save_path='plots/', show=False)\n",
    "\n",
    "# === Convert to DataFrame summary ===\n",
    "summary_df = pd.DataFrame(results)\n",
    "summary_df = summary_df[['email', 'feature', 'anova_p', 'mw_p', 'cohens_d']]\n"
   ]
  },
  {
   "cell_type": "code",
   "execution_count": null,
   "id": "d37c6600",
   "metadata": {},
   "outputs": [],
   "source": [
    "def label_effect_size(d):\n",
    "    if pd.isna(d):\n",
    "        return 'NA'\n",
    "    elif abs(d) >= 0.8:\n",
    "        return 'Large'\n",
    "    elif abs(d) >= 0.5:\n",
    "        return 'Medium'\n",
    "    elif abs(d) >= 0.2:\n",
    "        return 'Small'\n",
    "    else:\n",
    "        return 'Negligible'\n",
    "\n",
    "summary_df['effect_size_label'] = summary_df['cohens_d'].apply(label_effect_size)\n"
   ]
  },
  {
   "cell_type": "code",
   "execution_count": null,
   "id": "a2baf227",
   "metadata": {},
   "outputs": [],
   "source": [
    "summary_df.to_csv(\"calm_vs_stressed_features_with_effect_size.csv\", index=False)"
   ]
  },
  {
   "cell_type": "code",
   "execution_count": null,
   "id": "efbd9cc8",
   "metadata": {},
   "outputs": [],
   "source": []
  }
 ],
 "metadata": {
  "kernelspec": {
   "display_name": ".venv",
   "language": "python",
   "name": "python3"
  },
  "language_info": {
   "codemirror_mode": {
    "name": "ipython",
    "version": 3
   },
   "file_extension": ".py",
   "mimetype": "text/x-python",
   "name": "python",
   "nbconvert_exporter": "python",
   "pygments_lexer": "ipython3",
   "version": "3.13.3"
  }
 },
 "nbformat": 4,
 "nbformat_minor": 5
}
