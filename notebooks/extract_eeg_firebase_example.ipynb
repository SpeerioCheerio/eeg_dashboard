{
 "cells": [
  {
   "cell_type": "code",
   "execution_count": null,
   "id": "ba7585f3",
   "metadata": {},
   "outputs": [],
   "source": [
    "%load_ext autoreload\n",
    "%autoreload 2 "
   ]
  },
  {
   "cell_type": "code",
   "execution_count": null,
   "id": "3ba619a5",
   "metadata": {},
   "outputs": [],
   "source": [
    "# cell 1: Initialization\n",
    "\n",
    "import os\n",
    "import firebase_admin\n",
    "from firebase_admin import credentials, firestore\n",
    "from dotenv import load_dotenv\n",
    "load_dotenv()\n",
    "\n",
    "from setup_path import add_src_to_path\n",
    "add_src_to_path()\n",
    "from awear_neuroscience.data_extraction.firestore_loader import query_eeg_data, process_eeg_records"
   ]
  },
  {
   "cell_type": "code",
   "execution_count": null,
   "id": "8eedb50a",
   "metadata": {},
   "outputs": [],
   "source": [
    "# Initialize Firebase app\n",
    "\n",
    "cred = credentials.Certificate(os.getenv(\"GOOGLE_APPLICATION_CREDENTIALS\"))\n",
    "firebase_admin.initialize_app(cred)\n",
    "firestore_client = firestore.Client()\n",
    "\n",
    "print(\"Firebase initialized\")"
   ]
  },
  {
   "cell_type": "code",
   "execution_count": null,
   "id": "00785d6f",
   "metadata": {},
   "outputs": [],
   "source": [
    "# cell 2: Define query parameters\n",
    "from datetime import datetime, timedelta\n",
    "\n",
    "# Example: pull from last 5 hours\n",
    "now = datetime.now()\n",
    "time_ranges = [(now - timedelta(hours=5), now)]\n",
    "\n",
    "print(f\"Querying EEG data between {time_ranges[0][0]} and {time_ranges[0][1]}\")\n"
   ]
  },
  {
   "cell_type": "code",
   "execution_count": null,
   "id": "6eff589b",
   "metadata": {},
   "outputs": [],
   "source": [
    "# cell 3: Query and process records\n",
    "raw_records = query_eeg_data(\n",
    "    firestore_client=firestore_client,\n",
    "    collection_name=os.getenv(\"COLLECTION_NAME\"),\n",
    "    document_name=os.getenv(\"DOCUMENT_NAME\"),\n",
    "    subcollection_name=os.getenv(\"SUBCOLLECTION_NAME\"),\n",
    "    time_ranges=time_ranges,\n",
    ")\n",
    "\n",
    "print(f\"Retrieved {len(raw_records)} raw records.\")\n",
    "\n"
   ]
  },
  {
   "cell_type": "code",
   "execution_count": null,
   "id": "049f4391",
   "metadata": {},
   "outputs": [],
   "source": [
    "compact_df = process_eeg_records(raw_records)\n",
    "print(f\"Processed DataFrame shape: {compact_df.shape}\")\n",
    "compact_df.head()"
   ]
  },
  {
   "cell_type": "code",
   "execution_count": null,
   "id": "ab9364f7",
   "metadata": {},
   "outputs": [],
   "source": [
    "long_df = process_eeg_records(raw_records, return_long=True)\n",
    "print(f\"Processed DataFrame shape: {long_df.shape}, {long_df.shape[0]//256}\")\n",
    "long_df.head()"
   ]
  },
  {
   "cell_type": "code",
   "execution_count": null,
   "id": "7028ca86",
   "metadata": {},
   "outputs": [],
   "source": [
    "long_df.to_csv(\"../data/long_df.csv\", index=False)"
   ]
  },
  {
   "cell_type": "code",
   "execution_count": null,
   "id": "d91e8fd3",
   "metadata": {},
   "outputs": [],
   "source": [
    "# cell: Visualize waveform using Plotly\n",
    "from awear_neuroscience.utils.plot_utils import plot_eeg_waveform\n",
    "\n",
    "# Plot one segment\n",
    "plot_eeg_waveform(long_df, segment_id=\"seg_0\")\n"
   ]
  }
 ],
 "metadata": {
  "kernelspec": {
   "display_name": "Python 3",
   "language": "python",
   "name": "python3"
  },
  "language_info": {
   "codemirror_mode": {
    "name": "ipython",
    "version": 3
   },
   "file_extension": ".py",
   "mimetype": "text/x-python",
   "name": "python",
   "nbconvert_exporter": "python",
   "pygments_lexer": "ipython3",
   "version": "3.10.18"
  }
 },
 "nbformat": 4,
 "nbformat_minor": 5
}
